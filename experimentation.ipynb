{
 "cells": [
  {
   "cell_type": "code",
   "execution_count": 16,
   "metadata": {},
   "outputs": [],
   "source": [
    "import pandas as pd\n",
    "import numpy as np\n",
    "from sklearn.datasets import (load_iris, load_breast_cancer, load_diabetes, load_wine,\n",
    "                              fetch_california_housing, fetch_kddcup99)"
   ]
  },
  {
   "cell_type": "code",
   "execution_count": 17,
   "metadata": {},
   "outputs": [],
   "source": [
    "def load_sklearn_dataset(name):\n",
    "    if name == 'iris':\n",
    "        data = load_iris(as_frame=True)\n",
    "    elif name == 'wine':\n",
    "        data = load_wine(as_frame=True)\n",
    "    elif name == 'diabetes':\n",
    "        data = load_diabetes(as_frame=True)\n",
    "    elif name ==  'breast cancer':\n",
    "        data = load_breast_cancer(as_frame=True)\n",
    "    elif name == 'california housing':\n",
    "        data = fetch_california_housing(as_frame=True)\n",
    "    else:\n",
    "        return False\n",
    "    df = data['data']\n",
    "    df['target'] = data['target']\n",
    "    return df"
   ]
  },
  {
   "cell_type": "code",
   "execution_count": 18,
   "metadata": {},
   "outputs": [
    {
     "name": "stdout",
     "output_type": "stream",
     "text": [
      "<class 'pandas.core.frame.DataFrame'>\n",
      "RangeIndex: 494021 entries, 0 to 494020\n",
      "Data columns (total 42 columns):\n",
      " #   Column                       Non-Null Count   Dtype \n",
      "---  ------                       --------------   ----- \n",
      " 0   duration                     494021 non-null  object\n",
      " 1   protocol_type                494021 non-null  object\n",
      " 2   service                      494021 non-null  object\n",
      " 3   flag                         494021 non-null  object\n",
      " 4   src_bytes                    494021 non-null  object\n",
      " 5   dst_bytes                    494021 non-null  object\n",
      " 6   land                         494021 non-null  object\n",
      " 7   wrong_fragment               494021 non-null  object\n",
      " 8   urgent                       494021 non-null  object\n",
      " 9   hot                          494021 non-null  object\n",
      " 10  num_failed_logins            494021 non-null  object\n",
      " 11  logged_in                    494021 non-null  object\n",
      " 12  num_compromised              494021 non-null  object\n",
      " 13  root_shell                   494021 non-null  object\n",
      " 14  su_attempted                 494021 non-null  object\n",
      " 15  num_root                     494021 non-null  object\n",
      " 16  num_file_creations           494021 non-null  object\n",
      " 17  num_shells                   494021 non-null  object\n",
      " 18  num_access_files             494021 non-null  object\n",
      " 19  num_outbound_cmds            494021 non-null  object\n",
      " 20  is_host_login                494021 non-null  object\n",
      " 21  is_guest_login               494021 non-null  object\n",
      " 22  count                        494021 non-null  object\n",
      " 23  srv_count                    494021 non-null  object\n",
      " 24  serror_rate                  494021 non-null  object\n",
      " 25  srv_serror_rate              494021 non-null  object\n",
      " 26  rerror_rate                  494021 non-null  object\n",
      " 27  srv_rerror_rate              494021 non-null  object\n",
      " 28  same_srv_rate                494021 non-null  object\n",
      " 29  diff_srv_rate                494021 non-null  object\n",
      " 30  srv_diff_host_rate           494021 non-null  object\n",
      " 31  dst_host_count               494021 non-null  object\n",
      " 32  dst_host_srv_count           494021 non-null  object\n",
      " 33  dst_host_same_srv_rate       494021 non-null  object\n",
      " 34  dst_host_diff_srv_rate       494021 non-null  object\n",
      " 35  dst_host_same_src_port_rate  494021 non-null  object\n",
      " 36  dst_host_srv_diff_host_rate  494021 non-null  object\n",
      " 37  dst_host_serror_rate         494021 non-null  object\n",
      " 38  dst_host_srv_serror_rate     494021 non-null  object\n",
      " 39  dst_host_rerror_rate         494021 non-null  object\n",
      " 40  dst_host_srv_rerror_rate     494021 non-null  object\n",
      " 41  target                       494021 non-null  object\n",
      "dtypes: object(42)\n",
      "memory usage: 158.3+ MB\n"
     ]
    }
   ],
   "source": [
    "df = load_sklearn_dataset('kddcup99')\n",
    "df.info()"
   ]
  },
  {
   "cell_type": "code",
   "execution_count": null,
   "metadata": {},
   "outputs": [],
   "source": []
  }
 ],
 "metadata": {
  "kernelspec": {
   "display_name": ".env",
   "language": "python",
   "name": "python3"
  },
  "language_info": {
   "codemirror_mode": {
    "name": "ipython",
    "version": 3
   },
   "file_extension": ".py",
   "mimetype": "text/x-python",
   "name": "python",
   "nbconvert_exporter": "python",
   "pygments_lexer": "ipython3",
   "version": "3.10.8"
  }
 },
 "nbformat": 4,
 "nbformat_minor": 2
}
